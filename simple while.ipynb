{
 "cells": [
  {
   "cell_type": "code",
   "execution_count": 1,
   "metadata": {},
   "outputs": [
    {
     "ename": "FileNotFoundError",
     "evalue": "[Errno 2] No such file or directory: 'C:\\\\Users\\\\V Sudheer Kumar\\\\file.mbox\\\\mbox'",
     "output_type": "error",
     "traceback": [
      "\u001b[1;31m---------------------------------------------------------------------------\u001b[0m",
      "\u001b[1;31mFileNotFoundError\u001b[0m                         Traceback (most recent call last)",
      "\u001b[1;32mC:\\Anacondanew\\lib\\mailbox.py\u001b[0m in \u001b[0;36m__init__\u001b[1;34m(self, path, factory, create)\u001b[0m\n\u001b[0;32m    580\u001b[0m         \u001b[1;32mtry\u001b[0m\u001b[1;33m:\u001b[0m\u001b[1;33m\u001b[0m\u001b[1;33m\u001b[0m\u001b[0m\n\u001b[1;32m--> 581\u001b[1;33m             \u001b[0mf\u001b[0m \u001b[1;33m=\u001b[0m \u001b[0mopen\u001b[0m\u001b[1;33m(\u001b[0m\u001b[0mself\u001b[0m\u001b[1;33m.\u001b[0m\u001b[0m_path\u001b[0m\u001b[1;33m,\u001b[0m \u001b[1;34m'rb+'\u001b[0m\u001b[1;33m)\u001b[0m\u001b[1;33m\u001b[0m\u001b[1;33m\u001b[0m\u001b[0m\n\u001b[0m\u001b[0;32m    582\u001b[0m         \u001b[1;32mexcept\u001b[0m \u001b[0mOSError\u001b[0m \u001b[1;32mas\u001b[0m \u001b[0me\u001b[0m\u001b[1;33m:\u001b[0m\u001b[1;33m\u001b[0m\u001b[1;33m\u001b[0m\u001b[0m\n",
      "\u001b[1;31mFileNotFoundError\u001b[0m: [Errno 2] No such file or directory: 'C:\\\\Users\\\\V Sudheer Kumar\\\\file.mbox\\\\mbox'",
      "\nDuring handling of the above exception, another exception occurred:\n",
      "\u001b[1;31mFileNotFoundError\u001b[0m                         Traceback (most recent call last)",
      "\u001b[1;32m<ipython-input-1-6be475c0ddaf>\u001b[0m in \u001b[0;36m<module>\u001b[1;34m\u001b[0m\n\u001b[0;32m      4\u001b[0m \u001b[0mwriter\u001b[0m \u001b[1;33m=\u001b[0m \u001b[0mcsv\u001b[0m\u001b[1;33m.\u001b[0m\u001b[0mwriter\u001b[0m\u001b[1;33m(\u001b[0m\u001b[0mopen\u001b[0m\u001b[1;33m(\u001b[0m\u001b[1;34m\"mbox-output.csv\"\u001b[0m\u001b[1;33m,\u001b[0m \u001b[1;34m\"wb\"\u001b[0m\u001b[1;33m)\u001b[0m\u001b[1;33m)\u001b[0m\u001b[1;33m\u001b[0m\u001b[1;33m\u001b[0m\u001b[0m\n\u001b[0;32m      5\u001b[0m \u001b[1;33m\u001b[0m\u001b[0m\n\u001b[1;32m----> 6\u001b[1;33m \u001b[1;32mfor\u001b[0m \u001b[0mmessage\u001b[0m \u001b[1;32min\u001b[0m \u001b[0mmailbox\u001b[0m\u001b[1;33m.\u001b[0m\u001b[0mmbox\u001b[0m\u001b[1;33m(\u001b[0m\u001b[1;34m'file.mbox/mbox'\u001b[0m\u001b[1;33m)\u001b[0m\u001b[1;33m:\u001b[0m\u001b[1;33m\u001b[0m\u001b[1;33m\u001b[0m\u001b[0m\n\u001b[0m\u001b[0;32m      7\u001b[0m         \u001b[0mwriter\u001b[0m\u001b[1;33m.\u001b[0m\u001b[0mwriterow\u001b[0m\u001b[1;33m(\u001b[0m\u001b[1;33m[\u001b[0m\u001b[0mmessage\u001b[0m\u001b[1;33m[\u001b[0m\u001b[1;34m'message-id'\u001b[0m\u001b[1;33m]\u001b[0m\u001b[1;33m,\u001b[0m \u001b[0mmessage\u001b[0m\u001b[1;33m[\u001b[0m\u001b[1;34m'subject'\u001b[0m\u001b[1;33m]\u001b[0m\u001b[1;33m,\u001b[0m \u001b[0mmessage\u001b[0m\u001b[1;33m[\u001b[0m\u001b[1;34m'from'\u001b[0m\u001b[1;33m]\u001b[0m\u001b[1;33m]\u001b[0m\u001b[1;33m)\u001b[0m\u001b[1;33m\u001b[0m\u001b[1;33m\u001b[0m\u001b[0m\n",
      "\u001b[1;32mC:\\Anacondanew\\lib\\mailbox.py\u001b[0m in \u001b[0;36m__init__\u001b[1;34m(self, path, factory, create)\u001b[0m\n\u001b[0;32m    845\u001b[0m         \u001b[1;34m\"\"\"Initialize an mbox mailbox.\"\"\"\u001b[0m\u001b[1;33m\u001b[0m\u001b[1;33m\u001b[0m\u001b[0m\n\u001b[0;32m    846\u001b[0m         \u001b[0mself\u001b[0m\u001b[1;33m.\u001b[0m\u001b[0m_message_factory\u001b[0m \u001b[1;33m=\u001b[0m \u001b[0mmboxMessage\u001b[0m\u001b[1;33m\u001b[0m\u001b[1;33m\u001b[0m\u001b[0m\n\u001b[1;32m--> 847\u001b[1;33m         \u001b[0m_mboxMMDF\u001b[0m\u001b[1;33m.\u001b[0m\u001b[0m__init__\u001b[0m\u001b[1;33m(\u001b[0m\u001b[0mself\u001b[0m\u001b[1;33m,\u001b[0m \u001b[0mpath\u001b[0m\u001b[1;33m,\u001b[0m \u001b[0mfactory\u001b[0m\u001b[1;33m,\u001b[0m \u001b[0mcreate\u001b[0m\u001b[1;33m)\u001b[0m\u001b[1;33m\u001b[0m\u001b[1;33m\u001b[0m\u001b[0m\n\u001b[0m\u001b[0;32m    848\u001b[0m \u001b[1;33m\u001b[0m\u001b[0m\n\u001b[0;32m    849\u001b[0m     \u001b[1;32mdef\u001b[0m \u001b[0m_post_message_hook\u001b[0m\u001b[1;33m(\u001b[0m\u001b[0mself\u001b[0m\u001b[1;33m,\u001b[0m \u001b[0mf\u001b[0m\u001b[1;33m)\u001b[0m\u001b[1;33m:\u001b[0m\u001b[1;33m\u001b[0m\u001b[1;33m\u001b[0m\u001b[0m\n",
      "\u001b[1;32mC:\\Anacondanew\\lib\\mailbox.py\u001b[0m in \u001b[0;36m__init__\u001b[1;34m(self, path, factory, create)\u001b[0m\n\u001b[0;32m    583\u001b[0m             \u001b[1;32mif\u001b[0m \u001b[0me\u001b[0m\u001b[1;33m.\u001b[0m\u001b[0merrno\u001b[0m \u001b[1;33m==\u001b[0m \u001b[0merrno\u001b[0m\u001b[1;33m.\u001b[0m\u001b[0mENOENT\u001b[0m\u001b[1;33m:\u001b[0m\u001b[1;33m\u001b[0m\u001b[1;33m\u001b[0m\u001b[0m\n\u001b[0;32m    584\u001b[0m                 \u001b[1;32mif\u001b[0m \u001b[0mcreate\u001b[0m\u001b[1;33m:\u001b[0m\u001b[1;33m\u001b[0m\u001b[1;33m\u001b[0m\u001b[0m\n\u001b[1;32m--> 585\u001b[1;33m                     \u001b[0mf\u001b[0m \u001b[1;33m=\u001b[0m \u001b[0mopen\u001b[0m\u001b[1;33m(\u001b[0m\u001b[0mself\u001b[0m\u001b[1;33m.\u001b[0m\u001b[0m_path\u001b[0m\u001b[1;33m,\u001b[0m \u001b[1;34m'wb+'\u001b[0m\u001b[1;33m)\u001b[0m\u001b[1;33m\u001b[0m\u001b[1;33m\u001b[0m\u001b[0m\n\u001b[0m\u001b[0;32m    586\u001b[0m                 \u001b[1;32melse\u001b[0m\u001b[1;33m:\u001b[0m\u001b[1;33m\u001b[0m\u001b[1;33m\u001b[0m\u001b[0m\n\u001b[0;32m    587\u001b[0m                     \u001b[1;32mraise\u001b[0m \u001b[0mNoSuchMailboxError\u001b[0m\u001b[1;33m(\u001b[0m\u001b[0mself\u001b[0m\u001b[1;33m.\u001b[0m\u001b[0m_path\u001b[0m\u001b[1;33m)\u001b[0m\u001b[1;33m\u001b[0m\u001b[1;33m\u001b[0m\u001b[0m\n",
      "\u001b[1;31mFileNotFoundError\u001b[0m: [Errno 2] No such file or directory: 'C:\\\\Users\\\\V Sudheer Kumar\\\\file.mbox\\\\mbox'"
     ]
    }
   ],
   "source": [
    "import mailbox\n",
    "import csv\n",
    "\n",
    "writer = csv.writer(open(\"mbox-output.csv\", \"wb\"))\n",
    "\n",
    "for message in mailbox.mbox('file.mbox/mbox'):\n",
    "\twriter.writerow([message['message-id'], message['subject'], message['from']])"
   ]
  },
  {
   "cell_type": "code",
   "execution_count": 2,
   "metadata": {
    "scrolled": true
   },
   "outputs": [
    {
     "ename": "NameError",
     "evalue": "name 'mbox' is not defined",
     "output_type": "error",
     "traceback": [
      "\u001b[1;31m---------------------------------------------------------------------------\u001b[0m",
      "\u001b[1;31mNameError\u001b[0m                                 Traceback (most recent call last)",
      "\u001b[1;32m<ipython-input-2-d46bc4fec780>\u001b[0m in \u001b[0;36m<module>\u001b[1;34m\u001b[0m\n\u001b[1;32m----> 1\u001b[1;33m \u001b[0mmbox\u001b[0m\u001b[1;33m-\u001b[0m\u001b[0moutput\u001b[0m\u001b[1;33m.\u001b[0m\u001b[0mcsv\u001b[0m\u001b[1;33m\u001b[0m\u001b[1;33m\u001b[0m\u001b[0m\n\u001b[0m",
      "\u001b[1;31mNameError\u001b[0m: name 'mbox' is not defined"
     ]
    }
   ],
   "source": [
    "mbox-output.csv"
   ]
  },
  {
   "cell_type": "code",
   "execution_count": 3,
   "metadata": {
    "scrolled": true
   },
   "outputs": [
    {
     "name": "stdout",
     "output_type": "stream",
     "text": [
      "0\n",
      "1\n",
      "2\n",
      "3\n",
      "4\n",
      "Blastoff!\n"
     ]
    }
   ],
   "source": [
    "count = 0\n",
    "while count<5:\n",
    "    print(count)\n",
    "    count+=1\n",
    "print('Blastoff!')"
   ]
  },
  {
   "cell_type": "code",
   "execution_count": 4,
   "metadata": {},
   "outputs": [
    {
     "name": "stdout",
     "output_type": "stream",
     "text": [
      "1\n",
      "Number is too small\n",
      "15\n",
      "Number is too large\n",
      "13\n",
      "Congratulations. You have made it\n"
     ]
    }
   ],
   "source": [
    "# Edureka Module 1 ppt page no. 79 problem\n",
    "\n",
    "while True:                                                               \n",
    "    x = int(input())\n",
    "    if x<13:\n",
    "        print(\"Number is too small\")\n",
    "    elif x>13:\n",
    "        print(\"Number is too large\")\n",
    "    else:\n",
    "        break\n",
    "print(\"Congratulations. You have made it\")"
   ]
  },
  {
   "cell_type": "code",
   "execution_count": 6,
   "metadata": {},
   "outputs": [
    {
     "name": "stdout",
     "output_type": "stream",
     "text": [
      "Apple\n",
      "Karbuja\n",
      "Dates\n"
     ]
    }
   ],
   "source": [
    "fruits = ('Apple',\"Karbuja\",'Dates')\n",
    "\n",
    "for i in range(len(fruits)):\n",
    "    print(fruits[i])\n"
   ]
  },
  {
   "cell_type": "code",
   "execution_count": 1,
   "metadata": {},
   "outputs": [
    {
     "data": {
      "text/plain": [
       "<Figure size 640x480 with 1 Axes>"
      ]
     },
     "metadata": {},
     "output_type": "display_data"
    },
    {
     "name": "stdout",
     "output_type": "stream",
     "text": [
      "5.1\n",
      "5.0\n",
      "The modal value is 5.0 with a count of 23\n"
     ]
    }
   ],
   "source": [
    "'''\n",
    "#Ordinal data\n",
    "marks=int(input(\"Enter your percentage\"))\n",
    "\n",
    "if(marks<=40):\n",
    "    print(\"Fail\")\n",
    "elif((marks>40)&(marks<=50)):\n",
    "    print(\"Second Class\")\n",
    "elif((marks>50)&(marks<=60)):\n",
    "    print(\"First Class\")\n",
    "elif(marks>=60):\n",
    "    print(\"Congratulations!! You got distinction\")\n",
    "\n",
    "\n",
    "#nominal data\n",
    "ans1=input(\"Would you like to go for shopping? if yes then type Y / y else N/n\")\n",
    "ans2=input(\"Do you love talking on any topic? if yes then type Y / y else N/n\")\n",
    "\n",
    "if(((ans1=='Y')|(ans1=='y'))&((ans2=='Y')|(ans2=='y'))):\n",
    "    print(\"Welcome to girls club\")\n",
    "else:\n",
    "    print(\"Sorry boys, you can not join the club\")\n",
    "'''\n",
    "\n",
    "#mean mode median\n",
    "import matplotlib\n",
    "import matplotlib.pyplot as plt\n",
    "matplotlib.style.use('ggplot')\n",
    "import numpy as np\n",
    "from statistics import mode\n",
    "from scipy import stats\n",
    "\n",
    "np.random.seed(1)\n",
    "data = np.round(np.random.normal(5, 2, 100))\n",
    "plt.hist(data, bins=10, range=(0,10), edgecolor='black')\n",
    "\n",
    "plt.show()\n",
    "\n",
    "mean = np.mean(data)\n",
    "\n",
    "print(mean)\n",
    "\n",
    "print(np.median(data))\n",
    "\n",
    "mode = stats.mode(data)\n",
    "\n",
    "print(\"The modal value is {} with a count of {}\".format(mode.mode[0], mode.count[0]))\n"
   ]
  },
  {
   "cell_type": "code",
   "execution_count": 2,
   "metadata": {},
   "outputs": [
    {
     "name": "stdout",
     "output_type": "stream",
     "text": [
      "Sample average: 5.89\n",
      "Sample standard deviation: 0.57\n",
      "Improper standard deviation: 0.54\n",
      "\n",
      "Sample average: 5.75\n",
      "Sample standard deviation: 0.43\n",
      "Less improper standard deviation: 0.43\n"
     ]
    }
   ],
   "source": [
    "#standard deviation\n",
    "import numpy as np\n",
    "\n",
    "heights = [5.9, 5.5, 6.1, 6.0, 7.2, 5.1, 5.3, 6.0, 5.8, 6.0]\n",
    "print(\"Sample average: %.2f\" % np.mean(heights))\n",
    "print(\"Sample standard deviation: %.2f\" % np.std(heights, ddof=1))\n",
    "print(\"Improper standard deviation: %.2f\\n\" % np.std(heights))\n",
    "\n",
    "large_num_heights = np.random.random(size=100000)*1.5 + 5.0\n",
    "print(\"Sample average: %.2f\" % np.mean(large_num_heights))\n",
    "print(\"Sample standard deviation: %.2f\" % np.std(large_num_heights, ddof=1))\n",
    "print(\"Less improper standard deviation: %.2f\" % np.std(large_num_heights))\n",
    "\n",
    "\n",
    "#"
   ]
  },
  {
   "cell_type": "code",
   "execution_count": null,
   "metadata": {},
   "outputs": [],
   "source": []
  },
  {
   "cell_type": "code",
   "execution_count": null,
   "metadata": {},
   "outputs": [],
   "source": [
    "# Different file code\n",
    "import glob\n",
    "\n",
    "pattern = './**/*.ipynb'\n",
    "query = 'vdom'\n",
    "\n",
    "for filepath in glob.iglob(pattern, recursive=True):\n",
    "    with open(filepath) as file:\n",
    "        s = file.read()\n",
    "        if (s.find(query) > -1):\n",
    "            print(filepath)"
   ]
  },
  {
   "cell_type": "code",
   "execution_count": null,
   "metadata": {},
   "outputs": [],
   "source": []
  }
 ],
 "metadata": {
  "kernelspec": {
   "display_name": "Python 3",
   "language": "python",
   "name": "python3"
  },
  "language_info": {
   "codemirror_mode": {
    "name": "ipython",
    "version": 3
   },
   "file_extension": ".py",
   "mimetype": "text/x-python",
   "name": "python",
   "nbconvert_exporter": "python",
   "pygments_lexer": "ipython3",
   "version": "3.7.1"
  }
 },
 "nbformat": 4,
 "nbformat_minor": 2
}
