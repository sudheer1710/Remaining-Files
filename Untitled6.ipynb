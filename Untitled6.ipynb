{
 "cells": [
  {
   "cell_type": "code",
   "execution_count": 11,
   "metadata": {},
   "outputs": [],
   "source": [
    "str = \"Now, I could go in and copy the commit, and reference it within my comments, but there is an easier way, which I'll cover next\""
   ]
  },
  {
   "cell_type": "code",
   "execution_count": 12,
   "metadata": {},
   "outputs": [
    {
     "data": {
      "text/plain": [
       "\"NOW, I COULD GO IN AND COPY THE COMMIT, AND REFERENCE IT WITHIN MY COMMENTS, BUT THERE IS AN EASIER WAY, WHICH I'LL COVER NEXT\""
      ]
     },
     "execution_count": 12,
     "metadata": {},
     "output_type": "execute_result"
    }
   ],
   "source": [
    "str.upper()"
   ]
  },
  {
   "cell_type": "code",
   "execution_count": 15,
   "metadata": {},
   "outputs": [],
   "source": [
    "str1 = \"MERGE PULL REQUEST\""
   ]
  },
  {
   "cell_type": "code",
   "execution_count": 16,
   "metadata": {},
   "outputs": [
    {
     "data": {
      "text/plain": [
       "'Merge pull request'"
      ]
     },
     "execution_count": 16,
     "metadata": {},
     "output_type": "execute_result"
    }
   ],
   "source": [
    "str1.capitalize()"
   ]
  },
  {
   "cell_type": "code",
   "execution_count": null,
   "metadata": {},
   "outputs": [],
   "source": [
    "Welcome, in this video, we're going to look at setting up teams and adding team members to those teams. I want to start off by showing you that I have two browsers set up so that I can show two different user accounts in GitHub. On one browser I have set up my \"awesomejt\" user in GitHub, and in another browser I have the \"sudheer1710\" account. Also, the \"sudheer1710\" account is currently the owner of the \"my-organization-example\" organization. I just mentioned something called owner, and that comes into teams. So on the my organization page, I'm going to switch to the organization's profile.\n",
    "\n",
    "Once there, I'm going to click on \"People\". People shows all members of the organization, and right now, my \"sudheer1710\" account is the only member of the organization. Right now, it shows that my membership is private; that means that only members of this organization will know that I'm part of this organization. If I want other people to know that I'm part of this organization, I need to select public. Whether you're public or private doesn't matter, and it doesn't influence whether or not you pay for GitHub or not; this just effects the visibility of your membership in the organization. If I click on \"Owner\", I see that I have full administrative access to the entire organization; the owner role is a special role that is like super admin for this particular organization.\n",
    "\n",
    "All organizations must have at least one owner. Great, now I want to invite another person to join the team; however, before that, I want to create another group called a team, so I'm going to go back to the \"Teams\" tab. I'm going to scroll down, and find the green \"Create a new team\" button. Let's name the team \"Developers\". GitHub is going to do a search to make sure the name of the team is unique within the organization. In the description, I can provide an optional description of this team. In this case, developers will have read and write access to repos. And then I'm going to make this team \"Visible\". I could make it a secret, but I prefer to leave it as visible, so the \"@mentioned\" will work. Click on \"Create team\". By default, the user that creates the team is automatically part of that team, so you can see that I'm part of the developers team.\n",
    "\n",
    "Let's add another person; I'm going to click on \"awesomejt\" after typing in \"awesomejt\". GitHub will automatically search for any users matching the search criteria. Once the match is found, just click on the item that you wish to select. Anyone that is not already part of this organization, will be sent an invitation. And, if I wanted to, I could edit this invitation.\n",
    "On the invitation page, I can select for the invited user to be just a member of the organization or an owner of the organization. You can definitely have multiple owners of the  ganization, just keep in mind that owners have full administrative access to the entire organization. I'm going to leave it as \"Member\". Also, I can select all the teams that I wish this user to be part of once they accept the invitation. \n",
    "\n",
    "And, of course, I have the option to cancel the invitation or, if I made changes, to update the invitation. I'm going to go back by just clicking on people. Now I'm going to hop back over to the other browser, which as the \"awesomejt\" user account. Let's reload the page; we just want to make sure we have the most up-to-date information. I know that I have a pending invitation to the \"my-organization-example\" organization. Depending on your settings, you may receive an email with an invitation that will take you to that particular organization.\n",
    "Otherwise, you can go directly to the organization's profile page. So, back on the other browser, I'm going to copy the URL to the organization's profile page and then return to the other browser logged in as \"awesomejt\". And, in the address bar, I'm going to paste in the URL to the organization that I just got invited to.\n",
    "\n",
    "Once I land on that organization's page, I should have an invitation at the top saying that \"sudheer1710 invited you to join the my-organization-example organization\", and this happened \"6 minutes ago\". Now I'm going to click on \"View invitation\". On the invite page, I have the option to join that organization, so click on the green join button. Great, now I am a member of the \"my-organization-example\" organization. Now, I'm going to hop back over to the other browser and refresh, and now I see the \"awesomejt\" that's part of the people of this organization.\n",
    "Click on \"People\"; I now have \"awesomejt\" and \"sudheer1710\". By default, this member joined with the private visibility, and as we set up \"awesomejt\" is a member of the organization, not an owner. And, if we go to teams, developers now has two members; our team members are \"awesomejt\" and \"sudheer1710\"."
   ]
  }
 ],
 "metadata": {
  "kernelspec": {
   "display_name": "Python 3",
   "language": "python",
   "name": "python3"
  },
  "language_info": {
   "codemirror_mode": {
    "name": "ipython",
    "version": 3
   },
   "file_extension": ".py",
   "mimetype": "text/x-python",
   "name": "python",
   "nbconvert_exporter": "python",
   "pygments_lexer": "ipython3",
   "version": "3.8.5"
  }
 },
 "nbformat": 4,
 "nbformat_minor": 5
}
