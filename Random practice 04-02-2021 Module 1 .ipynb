{
 "cells": [
  {
   "cell_type": "code",
   "execution_count": 1,
   "metadata": {},
   "outputs": [],
   "source": [
    "abc = \"SHASTHRAVIHITHAREETHILO SANTHAANOTHPATTHIKI KAARANAMAINA MANMADHUDANU\""
   ]
  },
  {
   "cell_type": "code",
   "execution_count": 2,
   "metadata": {},
   "outputs": [
    {
     "data": {
      "text/plain": [
       "'Shasthravihithareethilo santhaanothpatthiki kaaranamaina manmadhudanu'"
      ]
     },
     "execution_count": 2,
     "metadata": {},
     "output_type": "execute_result"
    }
   ],
   "source": [
    "abc.capitalize()"
   ]
  },
  {
   "cell_type": "code",
   "execution_count": 3,
   "metadata": {},
   "outputs": [],
   "source": [
    "abc = \"Vaadhamu\""
   ]
  },
  {
   "cell_type": "code",
   "execution_count": 4,
   "metadata": {},
   "outputs": [
    {
     "data": {
      "text/plain": [
       "'VAADHAMU'"
      ]
     },
     "execution_count": 4,
     "metadata": {},
     "output_type": "execute_result"
    }
   ],
   "source": [
    "abc.upper()"
   ]
  },
  {
   "cell_type": "code",
   "execution_count": 5,
   "metadata": {},
   "outputs": [],
   "source": [
    "abc = \"viraat purushudanu\""
   ]
  },
  {
   "cell_type": "code",
   "execution_count": 6,
   "metadata": {},
   "outputs": [
    {
     "data": {
      "text/plain": [
       "'VIRAAT PURUSHUDANU'"
      ]
     },
     "execution_count": 6,
     "metadata": {},
     "output_type": "execute_result"
    }
   ],
   "source": [
    "abc.upper()"
   ]
  },
  {
   "cell_type": "code",
   "execution_count": 8,
   "metadata": {
    "scrolled": true
   },
   "outputs": [
    {
     "data": {
      "text/plain": [
       "'DHANDAMUNU'"
      ]
     },
     "execution_count": 8,
     "metadata": {},
     "output_type": "execute_result"
    }
   ],
   "source": [
    "abc = \"dhandamunu\"\n",
    "abc.upper()"
   ]
  },
  {
   "cell_type": "code",
   "execution_count": 9,
   "metadata": {},
   "outputs": [
    {
     "data": {
      "text/plain": [
       "'DHAMANASHAKTHINI'"
      ]
     },
     "execution_count": 9,
     "metadata": {},
     "output_type": "execute_result"
    }
   ],
   "source": [
    "abc = \"dhamanashakthini\"\n",
    "abc.upper()"
   ]
  },
  {
   "cell_type": "code",
   "execution_count": 11,
   "metadata": {},
   "outputs": [
    {
     "data": {
      "text/plain": [
       "'SHANKARUDANU'"
      ]
     },
     "execution_count": 11,
     "metadata": {},
     "output_type": "execute_result"
    }
   ],
   "source": [
    "abc = \"shankarudanu\"\n",
    "abc.upper()"
   ]
  },
  {
   "cell_type": "code",
   "execution_count": 12,
   "metadata": {},
   "outputs": [
    {
     "data": {
      "text/plain": [
       "'SANAATHANA DHARMAMUNAKUNU'"
      ]
     },
     "execution_count": 12,
     "metadata": {},
     "output_type": "execute_result"
    }
   ],
   "source": [
    "abc = \"Sanaathana dharmamunakunu\"\n",
    "abc.upper()"
   ]
  },
  {
   "cell_type": "code",
   "execution_count": 1,
   "metadata": {},
   "outputs": [
    {
     "data": {
      "text/plain": [
       "'THAANE SHRESHTUDANANU BHAAVAMU LEKUNDUTA'"
      ]
     },
     "execution_count": 1,
     "metadata": {},
     "output_type": "execute_result"
    }
   ],
   "source": [
    "abc = \"Thaane shreshtudananu bhaavamu lekunduta\"\n",
    "abc.upper()"
   ]
  },
  {
   "cell_type": "code",
   "execution_count": 2,
   "metadata": {},
   "outputs": [
    {
     "data": {
      "text/plain": [
       "'PRATHIPHALAAPEKSHA LEKUNDA CHEYABADUNADHIYU'"
      ]
     },
     "execution_count": 2,
     "metadata": {},
     "output_type": "execute_result"
    }
   ],
   "source": [
    "abc = \"prathiphalaapeksha lekunda cheyabadunadhiyu\"\n",
    "abc.upper()"
   ]
  },
  {
   "cell_type": "code",
   "execution_count": 3,
   "metadata": {
    "scrolled": true
   },
   "outputs": [
    {
     "data": {
      "text/plain": [
       "'LAJJA, BHAYAMU, DHURABHIMAANAMU, GAURAVAMU, AASAKTHI MODHALAGUVAANINI THYAJINCHI, SHAREERAMU NANDHU LOWKIKA VISHAYAMULAYANDHU AHANKAARA MAMAKAARAMULANU VADILI, KEVALAMU PARAMAATHMUDU OKKADE PARAMAASHRAYUDU, PARAMAGATHI, SARVASWAMU ANI BHAAVINCHUTA, ANANYA BHAAVAMUTHO MIKKILI BHAKTHI SHRADDHALATHO NIRANTHARAM BHAGAVANTHUNI NAAMAGUNAPRABHAAVASWAROOPAMULANU CHINTHANACHEYUTA, BHAGAVANTHUNI BHAJANASMARANALU CHEYUCHU, THADHAAGNAANUSAARAMU KARTHAVYA KARMALANU NISSWAARDHABHAAVAMUTHO KEVALAM PARAMAATHMUNIKORAKE AACHARINCHUTA'"
      ]
     },
     "execution_count": 3,
     "metadata": {},
     "output_type": "execute_result"
    }
   ],
   "source": [
    "abc = \"Lajja, Bhayamu, Dhurabhimaanamu, Gauravamu, Aasakthi modhalaguvaanini thyajinchi, shareeramu nandhu lowkika vishayamulayandhu ahankaara mamakaaramulanu vadili, kevalamu paramaathmudu okkade paramaashrayudu, paramagathi, sarvaswamu ani bhaavinchuta, ananya bhaavamutho mikkili bhakthi shraddhalatho nirantharam bhagavanthuni naamagunaprabhaavaswaroopamulanu chinthanacheyuta, bhagavanthuni bhajanasmaranalu cheyuchu, thadhaagnaanusaaramu karthavya karmalanu nisswaardhabhaavamutho kevalam paramaathmunikorake aacharinchuta\"\n",
    "abc.upper()"
   ]
  },
  {
   "cell_type": "code",
   "execution_count": 3,
   "metadata": {},
   "outputs": [
    {
     "name": "stdout",
     "output_type": "stream",
     "text": [
      "1\n",
      "Number is too small\n",
      "12\n",
      "Number is too small\n",
      "14\n",
      "Number is too large\n",
      "15\n",
      "Number is too large\n",
      "13\n",
      "Congratulations. You have made it\n"
     ]
    }
   ],
   "source": [
    "while True:\n",
    "    x = int(input())\n",
    "    if x<13:\n",
    "        print(\"Number is too small\")\n",
    "    elif x>13:\n",
    "        print(\"Number is too large\")\n",
    "    else:\n",
    "        break\n",
    "print(\"Congratulations. You have made it\")"
   ]
  },
  {
   "cell_type": "code",
   "execution_count": null,
   "metadata": {},
   "outputs": [],
   "source": [
    "For factorial of a number\n",
    "- say 5\n",
    "- 5 factorial is 1*2*3*4*5\n"
   ]
  },
  {
   "cell_type": "code",
   "execution_count": 22,
   "metadata": {},
   "outputs": [],
   "source": [
    "def Ecxpt(n):\n",
    "    exp = 1\n",
    "    for i in range(1,n+1):\n",
    "        exp = exp+i\n",
    "    return exp"
   ]
  },
  {
   "cell_type": "code",
   "execution_count": 21,
   "metadata": {},
   "outputs": [
    {
     "data": {
      "text/plain": [
       "45"
      ]
     },
     "execution_count": 21,
     "metadata": {},
     "output_type": "execute_result"
    }
   ],
   "source": [
    "Ecxpt(9)"
   ]
  },
  {
   "cell_type": "code",
   "execution_count": 19,
   "metadata": {},
   "outputs": [
    {
     "data": {
      "text/plain": [
       "46"
      ]
     },
     "execution_count": 19,
     "metadata": {},
     "output_type": "execute_result"
    }
   ],
   "source": [
    "1+1+2+3+4+5+6+7+8+9"
   ]
  },
  {
   "cell_type": "code",
   "execution_count": 24,
   "metadata": {},
   "outputs": [
    {
     "name": "stdout",
     "output_type": "stream",
     "text": [
      "1\n",
      "22\n",
      "333\n",
      "4444\n",
      "55555\n",
      "666666\n",
      "7777777\n",
      "88888888\n",
      "999999999\n"
     ]
    }
   ],
   "source": [
    "for i in range(1,10):\n",
    "    print(str(i)*i)"
   ]
  },
  {
   "cell_type": "code",
   "execution_count": 28,
   "metadata": {},
   "outputs": [
    {
     "name": "stdout",
     "output_type": "stream",
     "text": [
      "1\n",
      "22\n",
      "333\n",
      "4444\n",
      "55555\n",
      "666666\n",
      "7777777\n",
      "88888888\n",
      "999999999\n"
     ]
    }
   ],
   "source": [
    "for i in range(1,10):\n",
    "    for j in range(1,i+1):\n",
    "        print(i, end=\"\")\n",
    "    print()"
   ]
  },
  {
   "cell_type": "code",
   "execution_count": 4,
   "metadata": {},
   "outputs": [
    {
     "name": "stdout",
     "output_type": "stream",
     "text": [
      "Please enter your 4 digit ATM PIN\n",
      "1234\n",
      "Incorrect PIN Please try again\n",
      "Please enter your 4 digit ATM PIN\n",
      "5555\n",
      "Select any of the four options\n",
      "5\n",
      "Incorrect option\n",
      "Please enter your 4 digit ATM PIN\n",
      "5555\n",
      "Select any of the four options\n",
      "2\n",
      "Make a withdrawal\n"
     ]
    }
   ],
   "source": [
    "BankATMPin = 5555\n",
    "while True:\n",
    "    print(\"Please enter your 4 digit ATM PIN\")\n",
    "    x = int(input())\n",
    "    if BankATMPin == x:\n",
    "        print(\"Select any of the four options\")\n",
    "        y = int(input())\n",
    "        if y == 1:\n",
    "            print(\"Check Balance\")\n",
    "            break\n",
    "        elif y == 2:\n",
    "            print(\"Make a withdrawal\")\n",
    "            break\n",
    "        elif y == 3:\n",
    "            print(\"PayIN\")\n",
    "            break\n",
    "        elif y == 4:\n",
    "            print(\"Return card\")\n",
    "            break\n",
    "        else:\n",
    "            print('Incorrect option')\n",
    "    else:\n",
    "        print(\"Incorrect PIN Please try again\")\n",
    "        continue"
   ]
  },
  {
   "cell_type": "code",
   "execution_count": 7,
   "metadata": {},
   "outputs": [
    {
     "name": "stdout",
     "output_type": "stream",
     "text": [
      "10\n",
      "11\n",
      "12\n",
      "13\n",
      "14\n",
      "15\n",
      "16\n",
      "17\n",
      "18\n",
      "19\n",
      "20\n",
      "21\n",
      "22\n",
      "23\n",
      "24\n",
      "25\n",
      "26\n",
      "27\n",
      "28\n",
      "29\n",
      "30\n"
     ]
    }
   ],
   "source": [
    "for i in range(10,50):\n",
    "    print(i)\n",
    "    if (i==30):\n",
    "        break"
   ]
  },
  {
   "cell_type": "code",
   "execution_count": 11,
   "metadata": {},
   "outputs": [
    {
     "name": "stdout",
     "output_type": "stream",
     "text": [
      "10\n",
      "11\n",
      "12\n",
      "13\n",
      "14\n",
      "15\n",
      "16\n",
      "17\n",
      "18\n",
      "19\n",
      "20\n"
     ]
    }
   ],
   "source": [
    "for j in range(10,21):\n",
    "    print(j)\n",
    "    if (i==16):\n",
    "        continue"
   ]
  },
  {
   "cell_type": "code",
   "execution_count": 12,
   "metadata": {},
   "outputs": [
    {
     "name": "stdout",
     "output_type": "stream",
     "text": [
      "Statement is required syntactically, but I chose not to give any!\n"
     ]
    }
   ],
   "source": [
    "for k in range(1,15):\n",
    "    pass\n",
    "print('Statement is required syntactically, but I chose not to give any!')\n"
   ]
  },
  {
   "cell_type": "code",
   "execution_count": null,
   "metadata": {},
   "outputs": [],
   "source": []
  }
 ],
 "metadata": {
  "kernelspec": {
   "display_name": "Python 3",
   "language": "python",
   "name": "python3"
  },
  "language_info": {
   "codemirror_mode": {
    "name": "ipython",
    "version": 3
   },
   "file_extension": ".py",
   "mimetype": "text/x-python",
   "name": "python",
   "nbconvert_exporter": "python",
   "pygments_lexer": "ipython3",
   "version": "3.7.1"
  }
 },
 "nbformat": 4,
 "nbformat_minor": 4
}
