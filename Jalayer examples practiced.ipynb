{
 "cells": [
  {
   "cell_type": "code",
   "execution_count": 1,
   "metadata": {},
   "outputs": [],
   "source": [
    "import numpy as np"
   ]
  },
  {
   "cell_type": "code",
   "execution_count": 2,
   "metadata": {},
   "outputs": [],
   "source": [
    "import pandas as pd"
   ]
  },
  {
   "cell_type": "code",
   "execution_count": 3,
   "metadata": {},
   "outputs": [
    {
     "data": {
      "text/plain": [
       "'C:\\\\Users\\\\V Sudheer Kumar'"
      ]
     },
     "execution_count": 3,
     "metadata": {},
     "output_type": "execute_result"
    }
   ],
   "source": [
    "pwd"
   ]
  },
  {
   "cell_type": "code",
   "execution_count": 4,
   "metadata": {},
   "outputs": [],
   "source": [
    "import os"
   ]
  },
  {
   "cell_type": "code",
   "execution_count": 5,
   "metadata": {},
   "outputs": [],
   "source": [
    "os.chdir(\"C:\\\\Users\\\\V Sudheer Kumar\\\\Documents\\\\Jalayer\")"
   ]
  },
  {
   "cell_type": "code",
   "execution_count": 6,
   "metadata": {},
   "outputs": [
    {
     "ename": "PermissionError",
     "evalue": "[WinError 21] The device is not ready: 'F:\\\\Datascience Course Dec 2016 to Jan 2017\\\\Datascience course Material\\x02- Exploratory data analysis'",
     "output_type": "error",
     "traceback": [
      "\u001b[1;31m---------------------------------------------------------------------------\u001b[0m",
      "\u001b[1;31mPermissionError\u001b[0m                           Traceback (most recent call last)",
      "\u001b[1;32m<ipython-input-6-c900e700ea71>\u001b[0m in \u001b[0;36m<module>\u001b[1;34m\u001b[0m\n\u001b[1;32m----> 1\u001b[1;33m \u001b[0mos\u001b[0m\u001b[1;33m.\u001b[0m\u001b[0mchdir\u001b[0m\u001b[1;33m(\u001b[0m\u001b[1;34m\"F:\\Datascience Course Dec 2016 to Jan 2017\\Datascience course Material\\2- Exploratory data analysis\"\u001b[0m\u001b[1;33m)\u001b[0m\u001b[1;33m\u001b[0m\u001b[1;33m\u001b[0m\u001b[0m\n\u001b[0m",
      "\u001b[1;31mPermissionError\u001b[0m: [WinError 21] The device is not ready: 'F:\\\\Datascience Course Dec 2016 to Jan 2017\\\\Datascience course Material\\x02- Exploratory data analysis'"
     ]
    }
   ],
   "source": [
    "os.chdir(\"F:\\Datascience Course Dec 2016 to Jan 2017\\Datascience course Material\\2- Exploratory data analysis\")"
   ]
  },
  {
   "cell_type": "code",
   "execution_count": 7,
   "metadata": {},
   "outputs": [],
   "source": [
    "txt1 = pd.read_table('x1.txt')"
   ]
  },
  {
   "cell_type": "code",
   "execution_count": 8,
   "metadata": {},
   "outputs": [],
   "source": [
    "txt2 = pd.read_table('x2.txt')"
   ]
  },
  {
   "cell_type": "code",
   "execution_count": 9,
   "metadata": {},
   "outputs": [],
   "source": [
    "txt3 = pd.read_table('x3.txt')"
   ]
  },
  {
   "cell_type": "code",
   "execution_count": 10,
   "metadata": {},
   "outputs": [],
   "source": [
    "abc = pd.Series([txt1, txt2, txt3])"
   ]
  },
  {
   "cell_type": "code",
   "execution_count": 11,
   "metadata": {},
   "outputs": [
    {
     "data": {
      "text/plain": [
       "0    Empty DataFrame\n",
       "Columns: [adrian anthony gill ...\n",
       "1    Empty DataFrame\n",
       "Columns: [alvin bernard buzzy ...\n",
       "2    Empty DataFrame\n",
       "Columns: [alexander charles ba...\n",
       "dtype: object"
      ]
     },
     "execution_count": 11,
     "metadata": {},
     "output_type": "execute_result"
    }
   ],
   "source": [
    "abc"
   ]
  },
  {
   "cell_type": "code",
   "execution_count": 12,
   "metadata": {},
   "outputs": [],
   "source": [
    "from textblob import TextBlob"
   ]
  },
  {
   "cell_type": "code",
   "execution_count": 13,
   "metadata": {},
   "outputs": [
    {
     "data": {
      "text/html": [
       "<div>\n",
       "<style scoped>\n",
       "    .dataframe tbody tr th:only-of-type {\n",
       "        vertical-align: middle;\n",
       "    }\n",
       "\n",
       "    .dataframe tbody tr th {\n",
       "        vertical-align: top;\n",
       "    }\n",
       "\n",
       "    .dataframe thead th {\n",
       "        text-align: right;\n",
       "    }\n",
       "</style>\n",
       "<table border=\"1\" class=\"dataframe\">\n",
       "  <thead>\n",
       "    <tr style=\"text-align: right;\">\n",
       "      <th></th>\n",
       "      <th>abc</th>\n",
       "    </tr>\n",
       "  </thead>\n",
       "  <tbody>\n",
       "    <tr>\n",
       "      <th>0</th>\n",
       "      <td>Empty DataFrame\n",
       "Columns: [adrian anthony gill ...</td>\n",
       "    </tr>\n",
       "    <tr>\n",
       "      <th>1</th>\n",
       "      <td>Empty DataFrame\n",
       "Columns: [alvin bernard buzzy ...</td>\n",
       "    </tr>\n",
       "    <tr>\n",
       "      <th>2</th>\n",
       "      <td>Empty DataFrame\n",
       "Columns: [alexander charles ba...</td>\n",
       "    </tr>\n",
       "  </tbody>\n",
       "</table>\n",
       "</div>"
      ],
      "text/plain": [
       "                                                 abc\n",
       "0  Empty DataFrame\n",
       "Columns: [adrian anthony gill ...\n",
       "1  Empty DataFrame\n",
       "Columns: [alvin bernard buzzy ...\n",
       "2  Empty DataFrame\n",
       "Columns: [alexander charles ba..."
      ]
     },
     "execution_count": 13,
     "metadata": {},
     "output_type": "execute_result"
    }
   ],
   "source": [
    "abc.to_frame('abc')"
   ]
  },
  {
   "cell_type": "code",
   "execution_count": 14,
   "metadata": {},
   "outputs": [
    {
     "data": {
      "text/html": [
       "<div>\n",
       "<style scoped>\n",
       "    .dataframe tbody tr th:only-of-type {\n",
       "        vertical-align: middle;\n",
       "    }\n",
       "\n",
       "    .dataframe tbody tr th {\n",
       "        vertical-align: top;\n",
       "    }\n",
       "\n",
       "    .dataframe thead th {\n",
       "        text-align: right;\n",
       "    }\n",
       "</style>\n",
       "<table border=\"1\" class=\"dataframe\">\n",
       "  <thead>\n",
       "    <tr style=\"text-align: right;\">\n",
       "      <th></th>\n",
       "      <th>alvin bernard buzzy krongard more commonly ab born c 1936 was the executive director of the central intelligence agency he was appointed by george tenet on march 16 2001 the executive director is the third ranking position within the cia and the incumbent functions essentially as the chief operating officer of the agency for three years prior krongard had se,.,.rved as counselor to the director of central intelligence dcia longtime consultant to dcis krongard joined the agency fulltime in february 1998 following a 29year business career during his private sector career he served as chief executive officer and chairman of the board of alex brown sons the nations oldest investment banking firm and vice chairman of the board of bankers trustkrongard received an ab degree 1958 with honors from princeton university and a juris doctor degree with honors from the university of maryland school of law while at princeton krongard played lacrosse in 1980 he was inducted as a member of the national lacrosse hall of fame krongard played for the storied amateur mount washington lacrosse club he served three years of active duty as an infantry officer in the united states marine corpskrongard resigned from the cia shortly after the arrival of dci porter goss in september 2004 while at the cia he was the connection between erik prince of blackwater security consulting and the cia through his influence blackwater was able to receive its first black contracton march 18 2005 krongard was appointed as an outside us director to the global board of directors organized to oversee and coordinate the worldwide operations of dla piper one of the worlds largest law firms</th>\n",
       "    </tr>\n",
       "  </thead>\n",
       "  <tbody>\n",
       "  </tbody>\n",
       "</table>\n",
       "</div>"
      ],
      "text/plain": [
       "Empty DataFrame\n",
       "Columns: [alvin bernard buzzy krongard more commonly ab born c 1936 was the executive director of the central intelligence agency he was appointed by george tenet on march 16 2001 the executive director is the third ranking position within the cia and the incumbent functions essentially as the chief operating officer of the agency for three years prior krongard had se,.,.rved as counselor to the director of central intelligence dcia longtime consultant to dcis krongard joined the agency fulltime in february 1998 following a 29year business career during his private sector career he served as chief executive officer and chairman of the board of alex brown sons the nations oldest investment banking firm and vice chairman of the board of bankers trustkrongard received an ab degree 1958 with honors from princeton university and a juris doctor degree with honors from the university of maryland school of law while at princeton krongard played lacrosse in 1980 he was inducted as a member of the national lacrosse hall of fame krongard played for the storied amateur mount washington lacrosse club he served three years of active duty as an infantry officer in the united states marine corpskrongard resigned from the cia shortly after the arrival of dci porter goss in september 2004 while at the cia he was the connection between erik prince of blackwater security consulting and the cia through his influence blackwater was able to receive its first black contracton march 18 2005 krongard was appointed as an outside us director to the global board of directors organized to oversee and coordinate the worldwide operations of dla piper one of the worlds largest law firms]\n",
       "Index: []"
      ]
     },
     "execution_count": 14,
     "metadata": {},
     "output_type": "execute_result"
    }
   ],
   "source": [
    "abc[1]"
   ]
  },
  {
   "cell_type": "code",
   "execution_count": 15,
   "metadata": {},
   "outputs": [
    {
     "data": {
      "text/plain": [
       "dtype('O')"
      ]
     },
     "execution_count": 15,
     "metadata": {},
     "output_type": "execute_result"
    }
   ],
   "source": [
    "abc.dtype"
   ]
  },
  {
   "cell_type": "code",
   "execution_count": 16,
   "metadata": {},
   "outputs": [
    {
     "name": "stdout",
     "output_type": "stream",
     "text": [
      "-0.425\n"
     ]
    }
   ],
   "source": [
    "text=str(abc)\n",
    "obj = TextBlob(text)\n",
    "sentiment = obj.sentiment.polarity\n",
    "print(sentiment)"
   ]
  },
  {
   "cell_type": "code",
   "execution_count": null,
   "metadata": {},
   "outputs": [],
   "source": []
  },
  {
   "cell_type": "code",
   "execution_count": null,
   "metadata": {},
   "outputs": [],
   "source": []
  }
 ],
 "metadata": {
  "kernelspec": {
   "display_name": "Python 3",
   "language": "python",
   "name": "python3"
  },
  "language_info": {
   "codemirror_mode": {
    "name": "ipython",
    "version": 3
   },
   "file_extension": ".py",
   "mimetype": "text/x-python",
   "name": "python",
   "nbconvert_exporter": "python",
   "pygments_lexer": "ipython3",
   "version": "3.7.1"
  }
 },
 "nbformat": 4,
 "nbformat_minor": 2
}
