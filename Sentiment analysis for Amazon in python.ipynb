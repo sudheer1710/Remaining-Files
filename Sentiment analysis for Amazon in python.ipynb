{
 "cells": [
  {
   "cell_type": "code",
   "execution_count": 1,
   "metadata": {},
   "outputs": [],
   "source": [
    "import pandas as pd"
   ]
  },
  {
   "cell_type": "code",
   "execution_count": 3,
   "metadata": {},
   "outputs": [],
   "source": [
    "doc = pd.read_csv(\"amazon.csv\")"
   ]
  },
  {
   "cell_type": "code",
   "execution_count": 4,
   "metadata": {},
   "outputs": [
    {
     "data": {
      "text/html": [
       "<div>\n",
       "<style scoped>\n",
       "    .dataframe tbody tr th:only-of-type {\n",
       "        vertical-align: middle;\n",
       "    }\n",
       "\n",
       "    .dataframe tbody tr th {\n",
       "        vertical-align: top;\n",
       "    }\n",
       "\n",
       "    .dataframe thead th {\n",
       "        text-align: right;\n",
       "    }\n",
       "</style>\n",
       "<table border=\"1\" class=\"dataframe\">\n",
       "  <thead>\n",
       "    <tr style=\"text-align: right;\">\n",
       "      <th></th>\n",
       "      <th>name</th>\n",
       "      <th>review</th>\n",
       "      <th>sentiment</th>\n",
       "    </tr>\n",
       "  </thead>\n",
       "  <tbody>\n",
       "    <tr>\n",
       "      <th>0</th>\n",
       "      <td>Ju-Ju-Be Clear Zipper Plastic Pouch, Mess Shuttle</td>\n",
       "      <td>Haven\\'t used it a lot, but it\\'s always there...</td>\n",
       "      <td>positive</td>\n",
       "    </tr>\n",
       "    <tr>\n",
       "      <th>1</th>\n",
       "      <td>Dream On Me Deluxe Sleigh Toddler Bed with Sto...</td>\n",
       "      <td>Looked at this bed on several sites , Amazon h...</td>\n",
       "      <td>positive</td>\n",
       "    </tr>\n",
       "    <tr>\n",
       "      <th>2</th>\n",
       "      <td>Tadpoles 16 Sq Ft Pawprint Playmat Set, Brown</td>\n",
       "      <td>This was the perfect size for putting under a ...</td>\n",
       "      <td>positive</td>\n",
       "    </tr>\n",
       "    <tr>\n",
       "      <th>3</th>\n",
       "      <td>BABYBJORN Baby Carrier Original, Black, Cotton</td>\n",
       "      <td>I really love this product! It is an awesome m...</td>\n",
       "      <td>positive</td>\n",
       "    </tr>\n",
       "    <tr>\n",
       "      <th>4</th>\n",
       "      <td>Skip Hop Pacifier Pocket, Red</td>\n",
       "      <td>This tiny little pouch is such a lifesaver liv...</td>\n",
       "      <td>positive</td>\n",
       "    </tr>\n",
       "  </tbody>\n",
       "</table>\n",
       "</div>"
      ],
      "text/plain": [
       "                                                name  \\\n",
       "0  Ju-Ju-Be Clear Zipper Plastic Pouch, Mess Shuttle   \n",
       "1  Dream On Me Deluxe Sleigh Toddler Bed with Sto...   \n",
       "2      Tadpoles 16 Sq Ft Pawprint Playmat Set, Brown   \n",
       "3     BABYBJORN Baby Carrier Original, Black, Cotton   \n",
       "4                      Skip Hop Pacifier Pocket, Red   \n",
       "\n",
       "                                              review sentiment  \n",
       "0  Haven\\'t used it a lot, but it\\'s always there...  positive  \n",
       "1  Looked at this bed on several sites , Amazon h...  positive  \n",
       "2  This was the perfect size for putting under a ...  positive  \n",
       "3  I really love this product! It is an awesome m...  positive  \n",
       "4  This tiny little pouch is such a lifesaver liv...  positive  "
      ]
     },
     "execution_count": 4,
     "metadata": {},
     "output_type": "execute_result"
    }
   ],
   "source": [
    "doc.head()"
   ]
  },
  {
   "cell_type": "code",
   "execution_count": 5,
   "metadata": {},
   "outputs": [],
   "source": [
    "doc = doc.drop(['sentiment','name'],axis=1)"
   ]
  },
  {
   "cell_type": "code",
   "execution_count": 6,
   "metadata": {},
   "outputs": [
    {
     "data": {
      "text/html": [
       "<div>\n",
       "<style scoped>\n",
       "    .dataframe tbody tr th:only-of-type {\n",
       "        vertical-align: middle;\n",
       "    }\n",
       "\n",
       "    .dataframe tbody tr th {\n",
       "        vertical-align: top;\n",
       "    }\n",
       "\n",
       "    .dataframe thead th {\n",
       "        text-align: right;\n",
       "    }\n",
       "</style>\n",
       "<table border=\"1\" class=\"dataframe\">\n",
       "  <thead>\n",
       "    <tr style=\"text-align: right;\">\n",
       "      <th></th>\n",
       "      <th>review</th>\n",
       "    </tr>\n",
       "  </thead>\n",
       "  <tbody>\n",
       "    <tr>\n",
       "      <th>0</th>\n",
       "      <td>Haven\\'t used it a lot, but it\\'s always there...</td>\n",
       "    </tr>\n",
       "    <tr>\n",
       "      <th>1</th>\n",
       "      <td>Looked at this bed on several sites , Amazon h...</td>\n",
       "    </tr>\n",
       "    <tr>\n",
       "      <th>2</th>\n",
       "      <td>This was the perfect size for putting under a ...</td>\n",
       "    </tr>\n",
       "    <tr>\n",
       "      <th>3</th>\n",
       "      <td>I really love this product! It is an awesome m...</td>\n",
       "    </tr>\n",
       "    <tr>\n",
       "      <th>4</th>\n",
       "      <td>This tiny little pouch is such a lifesaver liv...</td>\n",
       "    </tr>\n",
       "  </tbody>\n",
       "</table>\n",
       "</div>"
      ],
      "text/plain": [
       "                                              review\n",
       "0  Haven\\'t used it a lot, but it\\'s always there...\n",
       "1  Looked at this bed on several sites , Amazon h...\n",
       "2  This was the perfect size for putting under a ...\n",
       "3  I really love this product! It is an awesome m...\n",
       "4  This tiny little pouch is such a lifesaver liv..."
      ]
     },
     "execution_count": 6,
     "metadata": {},
     "output_type": "execute_result"
    }
   ],
   "source": [
    "doc.head()"
   ]
  },
  {
   "cell_type": "code",
   "execution_count": 7,
   "metadata": {},
   "outputs": [],
   "source": [
    "from textblob import TextBlob"
   ]
  },
  {
   "cell_type": "code",
   "execution_count": 8,
   "metadata": {},
   "outputs": [
    {
     "data": {
      "text/plain": [
       "review    object\n",
       "dtype: object"
      ]
     },
     "execution_count": 8,
     "metadata": {},
     "output_type": "execute_result"
    }
   ],
   "source": [
    "doc.dtypes"
   ]
  },
  {
   "cell_type": "code",
   "execution_count": 9,
   "metadata": {},
   "outputs": [
    {
     "data": {
      "text/plain": [
       "<bound method DataFrame.iteritems of                                                   review\n",
       "0      Haven\\'t used it a lot, but it\\'s always there...\n",
       "1      Looked at this bed on several sites , Amazon h...\n",
       "2      This was the perfect size for putting under a ...\n",
       "3      I really love this product! It is an awesome m...\n",
       "4      This tiny little pouch is such a lifesaver liv...\n",
       "5      My babies didn\\'t take these pacifiers, but th...\n",
       "6      I love this seat! I can sit it on the couch or...\n",
       "7      This was purchased as an extra car seat for my...\n",
       "8      Im very pleased, Its difficult to find a foam ...\n",
       "9      Son has no hips or backside.  He outgrows the ...\n",
       "10     This baby seat seems very well constructed, hi...\n",
       "11     The Valco Ion Stroller is perfect for my daugh...\n",
       "12     We love this toy. I bought it for my 5th month...\n",
       "13     Well, I think the idea behind this bottle is g...\n",
       "14     The perfect gift for our new great granddaught...\n",
       "15     perfect belt to use and hold loose pants up.  ...\n",
       "16     It\\'s a nice breathable material that safely k...\n",
       "17     We love this toy.  I got it for my 1st child w...\n",
       "18     This is my favorite diaper cover to use over p...\n",
       "19     First of all, this is an excellent monitor for...\n",
       "20     So in the picture it looks like you can fit a ...\n",
       "21     Adequately packaged and good quality expected ...\n",
       "22     I bought this pillow for my wife in the first ...\n",
       "23     This cute little thing is simply adorable and ...\n",
       "24     The connection for my pump-in-style got loose ...\n",
       "25     This is a lovely little plaything for my beaut...\n",
       "26     We needed a crib and later play pen for a gran...\n",
       "27     I was at the pool with my mommy group.  We all...\n",
       "28     does what it is intended to do, protect knees....\n",
       "29     This is a &#34;tactile learning toy&#34; that ...\n",
       "...                                                  ...\n",
       "56683  I only put 1 star because I had to. The photos...\n",
       "56684  Amazon, please take this down. The pictures sh...\n",
       "56685  Not very impressed. They are cute, however the...\n",
       "56686  I agree with the other 2 posters. These sippy ...\n",
       "56687  These monitors do not work at all, I even atte...\n",
       "56688  Our family purchased numerous of these because...\n",
       "56689  I was so happy when i bought this charger for ...\n",
       "56690  I was very excited to receive this keyboard ca...\n",
       "56691  I agree with the reviewer below, this pad you ...\n",
       "56692  As a designer, I loved the look of the Mommaro...\n",
       "56693  A friend told us to get this, said it was a &#...\n",
       "56694  once in this thing, my 2mo. son loves this... ...\n",
       "56695  I received this product free for review but de...\n",
       "56696  Omg this case was so ugly and so hard that I t...\n",
       "56697  I only ordered one of this item and received 2...\n",
       "56698  The mattress is supposedly hypoallergenic clev...\n",
       "56699  Short story, I was very disappointed with the ...\n",
       "56700  Absolute rip off!!! Not impressed at all this ...\n",
       "56701  I wish I had bought the faucet extender and ha...\n",
       "56702  Definitely made extremely poorly in china. Is ...\n",
       "56703  Cute but cheaply made.. The part where you put...\n",
       "56704                              Made no difference :/\n",
       "56705  Be careful it stains your screen protector.  B...\n",
       "56706  Good idea but too dangerous. I really wanted t...\n",
       "56707  It doesn\\'t stay input. My daughter was slidin...\n",
       "56708  My infant goes to a really crappy daycare, and...\n",
       "56709  Pretty please open and inspect these stickers ...\n",
       "56710  Great 5-Star Product but An Obvious knock-off ...\n",
       "56711  When I received the item my initial thought wa...\n",
       "56712  I got this case in the mail today, it came on ...\n",
       "\n",
       "[56713 rows x 1 columns]>"
      ]
     },
     "execution_count": 9,
     "metadata": {},
     "output_type": "execute_result"
    }
   ],
   "source": [
    "doc.items"
   ]
  },
  {
   "cell_type": "code",
   "execution_count": 11,
   "metadata": {},
   "outputs": [
    {
     "data": {
      "text/plain": [
       "\"Haven\\\\'t used it a lot, but it\\\\'s always there if we need to store a dirty shirt while we\\\\'re out.  It also is good for transporting snacks.\""
      ]
     },
     "execution_count": 11,
     "metadata": {},
     "output_type": "execute_result"
    }
   ],
   "source": [
    "doc.review[0]"
   ]
  },
  {
   "cell_type": "code",
   "execution_count": 12,
   "metadata": {},
   "outputs": [
    {
     "name": "stdout",
     "output_type": "stream",
     "text": [
      "0.04999999999999999\n"
     ]
    }
   ],
   "source": [
    "text=doc.review[0]\n",
    "obj = TextBlob(text)\n",
    "sentiment = obj.sentiment.polarity\n",
    "print(sentiment)"
   ]
  },
  {
   "cell_type": "code",
   "execution_count": 14,
   "metadata": {},
   "outputs": [
    {
     "name": "stdout",
     "output_type": "stream",
     "text": [
      "0.14197990543735223\n"
     ]
    }
   ],
   "source": [
    "pol = print(TextBlob(doc.review[44]).sentiment.polarity)"
   ]
  },
  {
   "cell_type": "code",
   "execution_count": 15,
   "metadata": {},
   "outputs": [
    {
     "name": "stdout",
     "output_type": "stream",
     "text": [
      "0.04999999999999999\n",
      "0.40857142857142864\n",
      "0.3125\n",
      "0.18411458333333333\n",
      "0.12395833333333335\n",
      "0.5\n",
      "0.5875\n",
      "0.0225\n",
      "0.06999999999999999\n",
      "0.0\n",
      "0.0818154761904762\n",
      "0.5282828282828284\n",
      "0.6\n",
      "0.21000000000000002\n",
      "0.634090909090909\n",
      "0.26175824175824175\n",
      "0.7125\n",
      "0.20357142857142854\n",
      "0.09226190476190477\n",
      "0.14642008318478905\n",
      "0.19642857142857142\n",
      "0.27499999999999997\n",
      "0.2207142857142857\n",
      "0.2818181818181818\n",
      "0.22224002849002847\n",
      "0.27942307692307694\n",
      "0.19583333333333333\n",
      "0.21458333333333335\n",
      "-0.12637362637362637\n",
      "0.23229166666666665\n",
      "0.15625\n",
      "0.25833333333333336\n",
      "0.11874999999999998\n",
      "0.02509090909090909\n",
      "0.44166666666666665\n",
      "0.17004329004329002\n",
      "0.29233766233766234\n",
      "0.4376322751322751\n",
      "-0.12916666666666662\n",
      "0.20544444444444449\n",
      "0.3535714285714286\n",
      "0.27916666666666673\n",
      "0.29609375\n",
      "0.40166666666666667\n",
      "0.14197990543735223\n",
      "0.5385416666666667\n",
      "0.22377112135176652\n",
      "0.34\n",
      "0.10499999999999998\n",
      "0.21205370370370374\n",
      "0.3666666666666667\n",
      "0.15625\n",
      "0.41428571428571426\n",
      "0.07223707664884135\n",
      "0.4170068027210885\n",
      "0.18181818181818182\n",
      "0.037500000000000006\n",
      "0.03807997557997557\n",
      "0.41761363636363635\n",
      "0.06872632575757577\n",
      "0.5166666666666667\n",
      "0.37333333333333335\n",
      "0.28750000000000003\n",
      "-0.06666666666666664\n",
      "0.26571428571428574\n",
      "0.3925\n",
      "-0.071875\n",
      "0.35791666666666666\n",
      "0.1796875\n",
      "0.37027777777777776\n",
      "0.05688775510204084\n",
      "0.3583333333333334\n",
      "0.378125\n",
      "0.1375\n",
      "0.36192982456140355\n",
      "-0.2546296296296296\n",
      "0.47500000000000003\n",
      "0.4000000000000001\n",
      "0.36\n",
      "0.3331194295900179\n",
      "0.37\n",
      "0.1379166666666667\n",
      "0.2238095238095238\n",
      "0.07045454545454545\n",
      "0.27999999999999997\n",
      "0.27904761904761904\n",
      "0.25755208333333335\n",
      "0.35833333333333334\n",
      "0.1439176245210728\n",
      "0.5083333333333333\n",
      "0.1875\n",
      "0.2\n",
      "0.13333333333333333\n",
      "0.18080808080808083\n",
      "0.050992063492063484\n",
      "0.09166666666666667\n",
      "0.44743589743589735\n",
      "0.392\n",
      "0.4708333333333334\n",
      "0.4\n",
      "0.16178571428571428\n",
      "0.07642773892773892\n",
      "0.25490740740740747\n",
      "0.1075\n",
      "0.4847222222222222\n",
      "0.1488888888888889\n",
      "0.25416666666666665\n",
      "0.54\n",
      "0.23194444444444443\n",
      "0.4130000000000001\n",
      "0.18333333333333332\n",
      "0.3081481481481481\n",
      "0.13386172650878533\n",
      "0.17721566312475404\n",
      "0.3125\n",
      "0.2908290816326531\n",
      "0.23083333333333336\n"
     ]
    },
    {
     "ename": "TypeError",
     "evalue": "The `text` argument passed to `__init__(text)` must be a string, not <class 'float'>",
     "output_type": "error",
     "traceback": [
      "\u001b[1;31m---------------------------------------------------------------------------\u001b[0m",
      "\u001b[1;31mTypeError\u001b[0m                                 Traceback (most recent call last)",
      "\u001b[1;32m<ipython-input-15-e7e4248a2502>\u001b[0m in \u001b[0;36m<module>\u001b[1;34m()\u001b[0m\n\u001b[0;32m      1\u001b[0m \u001b[1;32mfor\u001b[0m \u001b[0mindex\u001b[0m\u001b[1;33m,\u001b[0m \u001b[0mrow\u001b[0m \u001b[1;32min\u001b[0m \u001b[0mdoc\u001b[0m\u001b[1;33m.\u001b[0m\u001b[0miterrows\u001b[0m\u001b[1;33m(\u001b[0m\u001b[1;33m)\u001b[0m\u001b[1;33m:\u001b[0m\u001b[1;33m\u001b[0m\u001b[0m\n\u001b[0;32m      2\u001b[0m     \u001b[0mtext\u001b[0m \u001b[1;33m=\u001b[0m \u001b[0mrow\u001b[0m\u001b[1;33m[\u001b[0m\u001b[1;36m0\u001b[0m\u001b[1;33m]\u001b[0m\u001b[1;33m\u001b[0m\u001b[0m\n\u001b[1;32m----> 3\u001b[1;33m     \u001b[0mobj\u001b[0m \u001b[1;33m=\u001b[0m \u001b[0mTextBlob\u001b[0m\u001b[1;33m(\u001b[0m\u001b[0mtext\u001b[0m\u001b[1;33m)\u001b[0m\u001b[1;33m\u001b[0m\u001b[0m\n\u001b[0m\u001b[0;32m      4\u001b[0m     \u001b[0msentiment\u001b[0m \u001b[1;33m=\u001b[0m \u001b[0mobj\u001b[0m\u001b[1;33m.\u001b[0m\u001b[0msentiment\u001b[0m\u001b[1;33m.\u001b[0m\u001b[0mpolarity\u001b[0m\u001b[1;33m\u001b[0m\u001b[0m\n\u001b[0;32m      5\u001b[0m     \u001b[0mprint\u001b[0m\u001b[1;33m(\u001b[0m\u001b[0msentiment\u001b[0m\u001b[1;33m)\u001b[0m\u001b[1;33m\u001b[0m\u001b[0m\n",
      "\u001b[1;32mC:\\ProgramData\\Anaconda3\\lib\\site-packages\\textblob\\blob.py\u001b[0m in \u001b[0;36m__init__\u001b[1;34m(self, text, tokenizer, pos_tagger, np_extractor, analyzer, parser, classifier, clean_html)\u001b[0m\n\u001b[0;32m    362\u001b[0m         \u001b[1;32mif\u001b[0m \u001b[1;32mnot\u001b[0m \u001b[0misinstance\u001b[0m\u001b[1;33m(\u001b[0m\u001b[0mtext\u001b[0m\u001b[1;33m,\u001b[0m \u001b[0mbasestring\u001b[0m\u001b[1;33m)\u001b[0m\u001b[1;33m:\u001b[0m\u001b[1;33m\u001b[0m\u001b[0m\n\u001b[0;32m    363\u001b[0m             raise TypeError('The `text` argument passed to `__init__(text)` '\n\u001b[1;32m--> 364\u001b[1;33m                             'must be a string, not {0}'.format(type(text)))\n\u001b[0m\u001b[0;32m    365\u001b[0m         \u001b[1;32mif\u001b[0m \u001b[0mclean_html\u001b[0m\u001b[1;33m:\u001b[0m\u001b[1;33m\u001b[0m\u001b[0m\n\u001b[0;32m    366\u001b[0m             raise NotImplementedError(\"clean_html has been deprecated. \"\n",
      "\u001b[1;31mTypeError\u001b[0m: The `text` argument passed to `__init__(text)` must be a string, not <class 'float'>"
     ]
    }
   ],
   "source": [
    "for index, row in doc.iterrows():\n",
    "    text = row[0]\n",
    "    obj = TextBlob(text)\n",
    "    sentiment = obj.sentiment.polarity\n",
    "    print(sentiment)"
   ]
  },
  {
   "cell_type": "code",
   "execution_count": 16,
   "metadata": {},
   "outputs": [
    {
     "data": {
      "text/plain": [
       "0.23083333333333336"
      ]
     },
     "execution_count": 16,
     "metadata": {},
     "output_type": "execute_result"
    }
   ],
   "source": [
    "sentiment"
   ]
  },
  {
   "cell_type": "code",
   "execution_count": null,
   "metadata": {},
   "outputs": [],
   "source": []
  },
  {
   "cell_type": "code",
   "execution_count": null,
   "metadata": {},
   "outputs": [],
   "source": []
  }
 ],
 "metadata": {
  "kernelspec": {
   "display_name": "Python 3",
   "language": "python",
   "name": "python3"
  },
  "language_info": {
   "codemirror_mode": {
    "name": "ipython",
    "version": 3
   },
   "file_extension": ".py",
   "mimetype": "text/x-python",
   "name": "python",
   "nbconvert_exporter": "python",
   "pygments_lexer": "ipython3",
   "version": "3.7.1"
  }
 },
 "nbformat": 4,
 "nbformat_minor": 2
}
