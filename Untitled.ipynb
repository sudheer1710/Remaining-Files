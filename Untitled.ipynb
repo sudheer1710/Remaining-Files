{
 "cells": [
  {
   "cell_type": "code",
   "execution_count": 1,
   "metadata": {},
   "outputs": [],
   "source": [
    "stir = \"Vishayabhogamula nimitthamai, anyaaya maargamula dwaara dhanaarjanaku paalpaduchunduru\""
   ]
  },
  {
   "cell_type": "code",
   "execution_count": 2,
   "metadata": {},
   "outputs": [
    {
     "data": {
      "text/plain": [
       "'Vishayabhogamula nimitthamai, anyaaya maargamula dwaara dhanaarjanaku paalpaduchunduru'"
      ]
     },
     "execution_count": 2,
     "metadata": {},
     "output_type": "execute_result"
    }
   ],
   "source": [
    "stir.capitalize()"
   ]
  },
  {
   "cell_type": "code",
   "execution_count": 9,
   "metadata": {},
   "outputs": [],
   "source": [
    "mns = \"Thapassampannudu kaanivaanikini, bhakthirahithunakunu, vinavalenani koothoohalamu leni vaanikini neevu ee geethaarooparah\""
   ]
  },
  {
   "cell_type": "code",
   "execution_count": 10,
   "metadata": {},
   "outputs": [
    {
     "data": {
      "text/plain": [
       "'THAPASSAMPANNUDU KAANIVAANIKINI, BHAKTHIRAHITHUNAKUNU, VINAVALENANI KOOTHOOHALAMU LENI VAANIKINI NEEVU EE GEETHAAROOPARAH'"
      ]
     },
     "execution_count": 10,
     "metadata": {},
     "output_type": "execute_result"
    }
   ],
   "source": [
    "mns.upper()"
   ]
  },
  {
   "cell_type": "code",
   "execution_count": 3,
   "metadata": {},
   "outputs": [
    {
     "data": {
      "text/plain": [
       "'VISHAYABHOGAMULA NIMITTHAMAI, ANYAAYA MAARGAMULA DWAARA DHANAARJANAKU PAALPADUCHUNDURU'"
      ]
     },
     "execution_count": 3,
     "metadata": {},
     "output_type": "execute_result"
    }
   ],
   "source": [
    "stir.upper()"
   ]
  },
  {
   "cell_type": "code",
   "execution_count": 4,
   "metadata": {},
   "outputs": [],
   "source": [
    "sir = \"itharulanu nindhinchuchu thamashareeramulayandhunu, itharula shareeramula yandhunu, antharyaamiganunna nannu dweshinchuchunduru\""
   ]
  },
  {
   "cell_type": "code",
   "execution_count": 5,
   "metadata": {},
   "outputs": [
    {
     "data": {
      "text/plain": [
       "'ITHARULANU NINDHINCHUCHU THAMASHAREERAMULAYANDHUNU, ITHARULA SHAREERAMULA YANDHUNU, ANTHARYAAMIGANUNNA NANNU DWESHINCHUCHUNDURU'"
      ]
     },
     "execution_count": 5,
     "metadata": {},
     "output_type": "execute_result"
    }
   ],
   "source": [
    "sir.upper()"
   ]
  },
  {
   "cell_type": "code",
   "execution_count": 6,
   "metadata": {},
   "outputs": [],
   "source": [
    "SU = 'saadhana cheyutaku mikkili sugamamu'"
   ]
  },
  {
   "cell_type": "code",
   "execution_count": 7,
   "metadata": {},
   "outputs": [
    {
     "data": {
      "text/plain": [
       "'SAADHANA CHEYUTAKU MIKKILI SUGAMAMU'"
      ]
     },
     "execution_count": 7,
     "metadata": {},
     "output_type": "execute_result"
    }
   ],
   "source": [
    "SU.upper()"
   ]
  },
  {
   "cell_type": "code",
   "execution_count": 8,
   "metadata": {},
   "outputs": [],
   "source": [
    "sp = \"Attivaadu sarvapaapamula nuniyu vimukthudagunu\""
   ]
  },
  {
   "cell_type": "code",
   "execution_count": 9,
   "metadata": {},
   "outputs": [
    {
     "data": {
      "text/plain": [
       "'ATTIVAADU SARVAPAAPAMULA NUNIYU VIMUKTHUDAGUNU'"
      ]
     },
     "execution_count": 9,
     "metadata": {},
     "output_type": "execute_result"
    }
   ],
   "source": [
    "sp.upper()"
   ]
  },
  {
   "cell_type": "code",
   "execution_count": 10,
   "metadata": {},
   "outputs": [],
   "source": [
    "man = \"Shasthravihithareethilo santhaanothpatthiki kaaranamaina\""
   ]
  },
  {
   "cell_type": "code",
   "execution_count": 11,
   "metadata": {},
   "outputs": [
    {
     "data": {
      "text/plain": [
       "'SHASTHRAVIHITHAREETHILO SANTHAANOTHPATTHIKI KAARANAMAINA'"
      ]
     },
     "execution_count": 11,
     "metadata": {},
     "output_type": "execute_result"
    }
   ],
   "source": [
    "man.upper()"
   ]
  },
  {
   "cell_type": "code",
   "execution_count": 12,
   "metadata": {},
   "outputs": [],
   "source": [
    "Rama = \"ShreeRaamaChandrudanu\""
   ]
  },
  {
   "cell_type": "code",
   "execution_count": 13,
   "metadata": {},
   "outputs": [
    {
     "data": {
      "text/plain": [
       "'SHREERAAMACHANDRUDANU'"
      ]
     },
     "execution_count": 13,
     "metadata": {},
     "output_type": "execute_result"
    }
   ],
   "source": [
    "Rama.upper()"
   ]
  },
  {
   "cell_type": "code",
   "execution_count": 2,
   "metadata": {},
   "outputs": [],
   "source": [
    "mnn = \"\"\"10:5 Kaani, Sachidhaanandaghananiraakaaraparabrahmanunandu aasakthachitthulainavaaru thathprapthikai cheyu saadhana mikkili shramatho goodinadhi. Aelanana, dehabhimaanulaku avyakthabrahma prapthi kashtasaadhyame.\n",
    "\n",
    "Saankhya\n",
    "\n",
    "10:8 Naa yandhe manassunu nilpumu. Naa yandhe buddhini lagnamu cheyumu. Pimmata naa yandhe sthiramugaanunduvu. Indhu ae maathramu sandehamu ledu.\n",
    "\n",
    "10:9 Manassunu susthiramuga naa yandhe nilputaku samardhudivi kaanicho, Arjuna abhyaasayogamu dhwaara nannu pondhutaku prayathninpumu.\n",
    "\n",
    "10:10 Abhyaasamucheyutaku ashakthudavainacho mathparaayanudavai karmalanu aacharimpumu. Ee vidhamuga naa nimitthamai karmalanu aacharinchutadhwaarakooda nanne pondhedhavu.\n",
    "\n",
    "10:11 Mathpraapthikai valayu yogamunaashrayinchi saadhana cheyutakunu neevu ashakthudavainacho, manobuddheendriyaadhulanu vashamunandu unchukoni, sakala karmaphalamulanu thyajimpumu.\n",
    "\n",
    "10:12 Thathvamu nerungakaye cheyu abhyaasamukantenu gnaanamu shreshtamu. Kevalam paroksha gnaanamukantenu anagaa anubhavarahithamaina gnaanamukantenu(shasthrapaandithyamu kantenu) parameshwaraswaroopadhyaanamu shreshtamu. Dhyaanamukantenu Karmaphalathyaagamu mikkili shreshtamainadhi. Aelanana thyaagamuvalana ventane paramashanthi labhinchunu.\n",
    "\n",
    "10:13 and 10:14 Ae praaniyandhunu dweshabhaavamu lenivaadunu, paiga sarvapraanulayandhunu avyaajamainaprema, karunakalavaadunu, mamathaahankaaramulu lenivaadunu, sukamu prapthinchinanu, dukkamuprapthinchinanu, samabhaavamu kaligiyunduvaadunu, kshamaagunamu kalavaadunu(aparaadhikini abhayamunu ichuvaadunu), sarvakaala sarvaavasthalayandhu santhushtudaiyundu yogiyu, shareerendriya manassulanu vashamunandunchukoninavaadunu, naa yandhu dhrudamaina nishchayamu galavaadunu, ayi naa yandhe manobuddhulanu arpana chesina naa bhakthudu naaku priyudu.\n",
    "\n",
    "10:15 Lokamuna evarikini udhvegamu (Kshobha) kaligimpanivaadunu, evarivalana thaanu udhevejithudu kaanivaadunu (udvegamunaku gurikaanivaadunu), harshamu, eershya(itharula unnathini choosi orvalekapovadam), bhayamu, udvegamu munnagu vikaaramulu lenivaadunu agu bhakthudu naaku priyudu.\n",
    "\n",
    "10:16 Ae maathrama kaankshalenivaadunu, shareerendriyamanassulayandhu shuchiyaiyunnavaadunu, dakshudunu, pakshapaatharahithudunu, etti dukkamulakunu chalimpanivaadunu, samasthakarmalayandhunu karthuthvaabhimaanamulu lenivaadunu agu bhakthudu naaku priyudu.\n",
    "\n",
    "Nijamaina swachamaina vyavahaaramudhwaara dhravyashuddhi, attidhravyamudhwaara samakoorina annamutho aahaarashuddhi, yadhaayogyajeevanavidhaanamuvalana aacharanashuddhi, jalamrutthikaadhulache shareerashuddhi- ivi yanniyunu 'baahyashuddhi'loni bhaagamulu. \n",
    "\n",
    "Raagadweshamulu, kapatamu modhalagu vikaaramulu nashinchi, anthakaranamu swachamagutanu 'anthashuddhi' andhuru.\n",
    "\n",
    "Praarabhdha vashamuna manovaakkaayamula dhwaara jarugu samastha swaabhaavika karmalayandhu karthuthvaabhimaanamunu thyajinchuvaadu thyaagi.\n",
    "\n",
    "10:17 Ishtavasthuprapthiki pongiponivaadunu, dheniyandhunu dweshabhaavamu lenivaadunu, denikini shokimpanivaadunu, denini aasimpanivaadunu, shubhashubhakarmalanu thyajinchinavaadunu(Need help), ayina bhakthudu naaku priyudu. \n",
    "\n",
    "10:18 Shatruvulayedanu, mithrulayedanu samabhaavamutho melaguvaadunu, maanavamaanamulu, sheethoshnamulu, sukadukkamulu modalagu dwandhamulanu samaanamuga sweekarinchuvaadunu, aasakthirahithudunu.\n",
    "\n",
    "10:19 Nindaasthulaku chalimpanivaadunu, mananasheeludunu, shareeranirvahanakai labhinchina dhaanithodane thrupthipaduvaadunu, nivaasasthaanamulayandhu mamathaasakthulu lenivaadunu, sthithapragnudu agu bhakthudu naaku ishtudu.\n",
    "\n",
    "10:20 Uparyukthadharmyaamruthamunu sevinchuchu(painaperkonabadina utthama gunamulanu kaligiyundi), nishkaamabhakthishraddhalatho mathparaayanulaina bhakthulu naakathyantha priyulu.\n",
    "\"\"\""
   ]
  },
  {
   "cell_type": "code",
   "execution_count": 3,
   "metadata": {},
   "outputs": [
    {
     "data": {
      "text/plain": [
       "\"12:5 Kaani, Sachidhaanandaghananiraakaaraparabrahmanunandu aasakthachitthulainavaaru thathprapthikai cheyu saadhana mikkili shramatho goodinadhi. Aelanana, dehabhimaanulaku avyakthabrahma prapthi kashtasaadhyame.\\n\\nSaankhya\\n\\n12:8 Naa yandhe manassunu nilpumu. Naa yandhe buddhini lagnamu cheyumu. Pimmata naa yandhe sthiramugaanunduvu. Indhu ae maathramu sandehamu ledu.\\n\\n12:9 Manassunu susthiramuga naa yandhe nilputaku samardhudivi kaanicho, Arjuna abhyaasayogamu dhwaara nannu pondhutaku prayathninpumu.\\n\\n12:12 Abhyaasamucheyutaku ashakthudavainacho mathparaayanudavai karmalanu aacharimpumu. Ee vidhamuga naa nimitthamai karmalanu aacharinchutadhwaarakooda nanne pondhedhavu.\\n\\n12:11 Mathpraapthikai valayu yogamunaashrayinchi saadhana cheyutakunu neevu ashakthudavainacho, manobuddheendriyaadhulanu vashamunandu unchukoni, sakala karmaphalamulanu thyajimpumu.\\n\\n12:12 Thathvamu nerungakaye cheyu abhyaasamukantenu gnaanamu shreshtamu. Kevalam paroksha gnaanamukantenu anagaa anubhavarahithamaina gnaanamukantenu(shasthrapaandithyamu kantenu) parameshwaraswaroopadhyaanamu shreshtamu. Dhyaanamukantenu Karmaphalathyaagamu mikkili shreshtamainadhi. Aelanana thyaagamuvalana ventane paramashanthi labhinchunu.\\n\\n12:13 and 12:14 Ae praaniyandhunu dweshabhaavamu lenivaadunu, paiga sarvapraanulayandhunu avyaajamainaprema, karunakalavaadunu, mamathaahankaaramulu lenivaadunu, sukamu prapthinchinanu, dukkamuprapthinchinanu, samabhaavamu kaligiyunduvaadunu, kshamaagunamu kalavaadunu(aparaadhikini abhayamunu ichuvaadunu), sarvakaala sarvaavasthalayandhu santhushtudaiyundu yogiyu, shareerendriya manassulanu vashamunandunchukoninavaadunu, naa yandhu dhrudamaina nishchayamu galavaadunu, ayi naa yandhe manobuddhulanu arpana chesina naa bhakthudu naaku priyudu.\\n\\n12:15 Lokamuna evarikini udhvegamu (Kshobha) kaligimpanivaadunu, evarivalana thaanu udhevejithudu kaanivaadunu (udvegamunaku gurikaanivaadunu), harshamu, eershya(itharula unnathini choosi orvalekapovadam), bhayamu, udvegamu munnagu vikaaramulu lenivaadunu agu bhakthudu naaku priyudu.\\n\\n12:16 Ae maathrama kaankshalenivaadunu, shareerendriyamanassulayandhu shuchiyaiyunnavaadunu, dakshudunu, pakshapaatharahithudunu, etti dukkamulakunu chalimpanivaadunu, samasthakarmalayandhunu karthuthvaabhimaanamulu lenivaadunu agu bhakthudu naaku priyudu.\\n\\nNijamaina swachamaina vyavahaaramudhwaara dhravyashuddhi, attidhravyamudhwaara samakoorina annamutho aahaarashuddhi, yadhaayogyajeevanavidhaanamuvalana aacharanashuddhi, jalamrutthikaadhulache shareerashuddhi- ivi yanniyunu 'baahyashuddhi'loni bhaagamulu. \\n\\nRaagadweshamulu, kapatamu modhalagu vikaaramulu nashinchi, anthakaranamu swachamagutanu 'anthashuddhi' andhuru.\\n\\nPraarabhdha vashamuna manovaakkaayamula dhwaara jarugu samastha swaabhaavika karmalayandhu karthuthvaabhimaanamunu thyajinchuvaadu thyaagi.\\n\\n12:17 Ishtavasthuprapthiki pongiponivaadunu, dheniyandhunu dweshabhaavamu lenivaadunu, denikini shokimpanivaadunu, denini aasimpanivaadunu, shubhashubhakarmalanu thyajinchinavaadunu(Need help), ayina bhakthudu naaku priyudu. \\n\\n12:18 Shatruvulayedanu, mithrulayedanu samabhaavamutho melaguvaadunu, maanavamaanamulu, sheethoshnamulu, sukadukkamulu modalagu dwandhamulanu samaanamuga sweekarinchuvaadunu, aasakthirahithudunu.\\n\\n12:19 Nindaasthulaku chalimpanivaadunu, mananasheeludunu, shareeranirvahanakai labhinchina dhaanithodane thrupthipaduvaadunu, nivaasasthaanamulayandhu mamathaasakthulu lenivaadunu, sthithapragnudu agu bhakthudu naaku ishtudu.\\n\\n12:20 Uparyukthadharmyaamruthamunu sevinchuchu(painaperkonabadina utthama gunamulanu kaligiyundi), nishkaamabhakthishraddhalatho mathparaayanulaina bhakthulu naakathyantha priyulu.\\n\""
      ]
     },
     "execution_count": 3,
     "metadata": {},
     "output_type": "execute_result"
    }
   ],
   "source": [
    "mnn.replace('10','12')"
   ]
  },
  {
   "cell_type": "code",
   "execution_count": 5,
   "metadata": {},
   "outputs": [],
   "source": [
    "sd = 'avyabhichaarineebhakthi'"
   ]
  },
  {
   "cell_type": "code",
   "execution_count": 6,
   "metadata": {},
   "outputs": [
    {
     "data": {
      "text/plain": [
       "'AVYABHICHAARINEEBHAKTHI'"
      ]
     },
     "execution_count": 6,
     "metadata": {},
     "output_type": "execute_result"
    }
   ],
   "source": [
    "sd.upper()"
   ]
  },
  {
   "cell_type": "code",
   "execution_count": 7,
   "metadata": {},
   "outputs": [],
   "source": [
    "suk =\"Athisookshma(paramaanu) roopudainanduna thelusukonashakyamukaanivaadu\""
   ]
  },
  {
   "cell_type": "code",
   "execution_count": 8,
   "metadata": {},
   "outputs": [
    {
     "data": {
      "text/plain": [
       "'ATHISOOKSHMA(PARAMAANU) ROOPUDAINANDUNA THELUSUKONASHAKYAMUKAANIVAADU'"
      ]
     },
     "execution_count": 8,
     "metadata": {},
     "output_type": "execute_result"
    }
   ],
   "source": [
    "suk.upper()"
   ]
  },
  {
   "cell_type": "code",
   "execution_count": 9,
   "metadata": {},
   "outputs": [],
   "source": [
    "gs = \"gnaanaprapthiki saadanamulu\""
   ]
  },
  {
   "cell_type": "code",
   "execution_count": 10,
   "metadata": {},
   "outputs": [
    {
     "data": {
      "text/plain": [
       "'GNAANAPRAPTHIKI SAADANAMULU'"
      ]
     },
     "execution_count": 10,
     "metadata": {},
     "output_type": "execute_result"
    }
   ],
   "source": [
    "gs.upper()"
   ]
  },
  {
   "cell_type": "code",
   "execution_count": 11,
   "metadata": {},
   "outputs": [],
   "source": [
    "D = \"raagadweshaadhivikaaramulunu, thrigunaath\""
   ]
  },
  {
   "cell_type": "code",
   "execution_count": 12,
   "metadata": {},
   "outputs": [
    {
     "data": {
      "text/plain": [
       "'RAAGADWESHAADHIVIKAARAMULUNU, THRIGUNAATH'"
      ]
     },
     "execution_count": 12,
     "metadata": {},
     "output_type": "execute_result"
    }
   ],
   "source": [
    "D.upper()"
   ]
  },
  {
   "cell_type": "code",
   "execution_count": 11,
   "metadata": {},
   "outputs": [],
   "source": [
    "mn = \"Naaku preethini goorchinatti karmala naacharinchu manushyulalo athanini minchina bhakthudevvadunu ledu. Anthegaaka, athanivale gaani, athanini minchigaani naaku priyamaina vaadu bhoomandalamuna mariyokadevvadunu bhavishyatthulo undabodu\""
   ]
  },
  {
   "cell_type": "code",
   "execution_count": 12,
   "metadata": {},
   "outputs": [
    {
     "data": {
      "text/plain": [
       "'NAAKU PREETHINI GOORCHINATTI KARMALA NAACHARINCHU MANUSHYULALO ATHANINI MINCHINA BHAKTHUDEVVADUNU LEDU. ANTHEGAAKA, ATHANIVALE GAANI, ATHANINI MINCHIGAANI NAAKU PRIYAMAINA VAADU BHOOMANDALAMUNA MARIYOKADEVVADUNU BHAVISHYATTHULO UNDABODU'"
      ]
     },
     "execution_count": 12,
     "metadata": {},
     "output_type": "execute_result"
    }
   ],
   "source": [
    "mn.upper()"
   ]
  },
  {
   "cell_type": "code",
   "execution_count": 15,
   "metadata": {},
   "outputs": [],
   "source": [
    "thr = 'Sathvagunamu jeevunu sukamulalo nimagnamu cheyunu. Rajogunamu karmalayandhu nimagnuniga cheyunu.'"
   ]
  },
  {
   "cell_type": "code",
   "execution_count": 16,
   "metadata": {},
   "outputs": [
    {
     "data": {
      "text/plain": [
       "'SATHVAGUNAMU JEEVUNU SUKAMULALO NIMAGNAMU CHEYUNU. RAJOGUNAMU KARMALAYANDHU NIMAGNUNIGA CHEYUNU.'"
      ]
     },
     "execution_count": 16,
     "metadata": {},
     "output_type": "execute_result"
    }
   ],
   "source": [
    "thr.upper()"
   ]
  },
  {
   "cell_type": "code",
   "execution_count": 17,
   "metadata": {},
   "outputs": [],
   "source": [
    "sa = 'chaithanyamu, vivekashakthi'"
   ]
  },
  {
   "cell_type": "code",
   "execution_count": 18,
   "metadata": {},
   "outputs": [
    {
     "data": {
      "text/plain": [
       "'CHAITHANYAMU, VIVEKASHAKTHI'"
      ]
     },
     "execution_count": 18,
     "metadata": {},
     "output_type": "execute_result"
    }
   ],
   "source": [
    "sa.upper()"
   ]
  },
  {
   "cell_type": "code",
   "execution_count": 19,
   "metadata": {},
   "outputs": [],
   "source": [
    "LO = 'ANUNAVI UTHPANNAMULAGUCHUNDUNU'"
   ]
  },
  {
   "cell_type": "code",
   "execution_count": 20,
   "metadata": {},
   "outputs": [
    {
     "data": {
      "text/plain": [
       "'anunavi uthpannamulaguchundunu'"
      ]
     },
     "execution_count": 20,
     "metadata": {},
     "output_type": "execute_result"
    }
   ],
   "source": [
    "LO.lower()"
   ]
  },
  {
   "cell_type": "code",
   "execution_count": 21,
   "metadata": {},
   "outputs": [],
   "source": [
    "guna = 'O PAANDAVA SATHVAGUNA KAARYAROOPAMAINA PRAKAASHAMU, RAJOGUNAKAARYAROOPAMAINA PRAVRUTHI, THAMOGUNAKAARYAROOPAMAINA MOHAMU'"
   ]
  },
  {
   "cell_type": "code",
   "execution_count": 22,
   "metadata": {},
   "outputs": [
    {
     "data": {
      "text/plain": [
       "'o paandava sathvaguna kaaryaroopamaina prakaashamu, rajogunakaaryaroopamaina pravruthi, thamogunakaaryaroopamaina mohamu'"
      ]
     },
     "execution_count": 22,
     "metadata": {},
     "output_type": "execute_result"
    }
   ],
   "source": [
    "guna.lower()"
   ]
  },
  {
   "cell_type": "code",
   "execution_count": 23,
   "metadata": {},
   "outputs": [],
   "source": [
    "x = 'aathma thathvamunu '"
   ]
  },
  {
   "cell_type": "code",
   "execution_count": 24,
   "metadata": {},
   "outputs": [
    {
     "data": {
      "text/plain": [
       "'AATHMA THATHVAMUNU '"
      ]
     },
     "execution_count": 24,
     "metadata": {},
     "output_type": "execute_result"
    }
   ],
   "source": [
    "x.upper()"
   ]
  },
  {
   "cell_type": "code",
   "execution_count": 1,
   "metadata": {},
   "outputs": [],
   "source": [
    "kvk = 'Karthavyaakarthavyamulanu nirnayinchutaku shaasthrame pramaanamu'"
   ]
  },
  {
   "cell_type": "code",
   "execution_count": 2,
   "metadata": {},
   "outputs": [
    {
     "data": {
      "text/plain": [
       "'KARTHAVYAAKARTHAVYAMULANU NIRNAYINCHUTAKU SHAASTHRAME PRAMAANAMU'"
      ]
     },
     "execution_count": 2,
     "metadata": {},
     "output_type": "execute_result"
    }
   ],
   "source": [
    "kvk.upper()"
   ]
  },
  {
   "cell_type": "code",
   "execution_count": 3,
   "metadata": {},
   "outputs": [],
   "source": [
    "thy = 'Shaasthravidhinanusarimpanidhiyu, annadhaanarahithamainadhiyu, manthraheenamainadhiyu, dakshinalu lenidhiyu, shraddharahithamainadhiyu'"
   ]
  },
  {
   "cell_type": "code",
   "execution_count": 4,
   "metadata": {},
   "outputs": [
    {
     "data": {
      "text/plain": [
       "'SHAASTHRAVIDHINANUSARIMPANIDHIYU, ANNADHAANARAHITHAMAINADHIYU, MANTHRAHEENAMAINADHIYU, DAKSHINALU LENIDHIYU, SHRADDHARAHITHAMAINADHIYU'"
      ]
     },
     "execution_count": 4,
     "metadata": {},
     "output_type": "execute_result"
    }
   ],
   "source": [
    "thy.upper()"
   ]
  },
  {
   "cell_type": "code",
   "execution_count": 5,
   "metadata": {},
   "outputs": [],
   "source": [
    "tt = 'Mondipattudhalatho manovaakkaayamulaku baadhakaliginchunaviyu, itharulaku keedu kalginchutakai cheyabadunaviyu'"
   ]
  },
  {
   "cell_type": "code",
   "execution_count": 6,
   "metadata": {},
   "outputs": [
    {
     "data": {
      "text/plain": [
       "'MONDIPATTUDHALATHO MANOVAAKKAAYAMULAKU BAADHAKALIGINCHUNAVIYU, ITHARULAKU KEEDU KALGINCHUTAKAI CHEYABADUNAVIYU'"
      ]
     },
     "execution_count": 6,
     "metadata": {},
     "output_type": "execute_result"
    }
   ],
   "source": [
    "tt.upper()"
   ]
  },
  {
   "cell_type": "code",
   "execution_count": 7,
   "metadata": {},
   "outputs": [],
   "source": [
    "bd = \"shareerakakleshamunaku bhayapadi\""
   ]
  },
  {
   "cell_type": "code",
   "execution_count": 8,
   "metadata": {},
   "outputs": [
    {
     "data": {
      "text/plain": [
       "'SHAREERAKAKLESHAMUNAKU BHAYAPADI'"
      ]
     },
     "execution_count": 8,
     "metadata": {},
     "output_type": "execute_result"
    }
   ],
   "source": [
    "bd.upper()"
   ]
  },
  {
   "cell_type": "code",
   "execution_count": 13,
   "metadata": {},
   "outputs": [],
   "source": [
    "import os\n",
    "fileO = open(\"Vishwaksen.txt\", \"w+\")"
   ]
  },
  {
   "cell_type": "code",
   "execution_count": 14,
   "metadata": {},
   "outputs": [],
   "source": [
    "for i in range(1,11):\n",
    "    fileO.write(\"\\n Vinayaka this is one of my try!\")"
   ]
  },
  {
   "cell_type": "code",
   "execution_count": 16,
   "metadata": {
    "scrolled": true
   },
   "outputs": [
    {
     "name": "stdout",
     "output_type": "stream",
     "text": [
      "\n",
      "\n",
      "\n",
      "\n",
      "\n",
      "\n",
      "\n",
      "\n",
      "\n",
      "\n"
     ]
    }
   ],
   "source": [
    "for i in range(1,11):\n",
    "    print(fileO.read())"
   ]
  },
  {
   "cell_type": "code",
   "execution_count": 17,
   "metadata": {},
   "outputs": [
    {
     "data": {
      "text/plain": [
       "5"
      ]
     },
     "execution_count": 17,
     "metadata": {},
     "output_type": "execute_result"
    }
   ],
   "source": [
    "fileO.seek(5)"
   ]
  },
  {
   "cell_type": "code",
   "execution_count": 18,
   "metadata": {},
   "outputs": [
    {
     "data": {
      "text/plain": [
       "5"
      ]
     },
     "execution_count": 18,
     "metadata": {},
     "output_type": "execute_result"
    }
   ],
   "source": [
    "fileO.tell()"
   ]
  },
  {
   "cell_type": "code",
   "execution_count": 38,
   "metadata": {},
   "outputs": [
    {
     "name": "stdout",
     "output_type": "stream",
     "text": [
      "\n",
      " Vinayaka you are the first god for Puja!\n",
      " Vinayaka you are the first god for Puja!\n",
      " Vinayaka you are the first god for Puja!\n",
      " Vinayaka you are the first god for Puja!\n",
      " Vinayaka you are the first god for Puja!\n",
      " Vinayaka you are the first god for Puja!\n",
      " Vinayaka you are the first god for Puja!\n",
      " Vinayaka you are the first god for Puja!\n",
      " Vinayaka you are the first god for Puja!\n",
      " Vinayaka you are the first god for Puja!\n"
     ]
    }
   ],
   "source": [
    "file23 = open(\"firstgod.txt\", \"w+\")\n",
    "for i in range(1,11):\n",
    "    file23.write(\"\\n Vinayaka you are the first god for Puja!\")\n",
    "    \n",
    "file23.seek(0)\n",
    "for i in range(1,2):\n",
    "    print(file23.read())\n",
    "file23.tell()\n",
    "file23.close()"
   ]
  },
  {
   "cell_type": "code",
   "execution_count": null,
   "metadata": {},
   "outputs": [],
   "source": []
  }
 ],
 "metadata": {
  "kernelspec": {
   "display_name": "Python 3",
   "language": "python",
   "name": "python3"
  },
  "language_info": {
   "codemirror_mode": {
    "name": "ipython",
    "version": 3
   },
   "file_extension": ".py",
   "mimetype": "text/x-python",
   "name": "python",
   "nbconvert_exporter": "python",
   "pygments_lexer": "ipython3",
   "version": "3.8.5"
  }
 },
 "nbformat": 4,
 "nbformat_minor": 4
}
